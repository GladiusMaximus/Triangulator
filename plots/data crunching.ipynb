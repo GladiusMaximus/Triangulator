{
 "metadata": {
  "name": "data crunching"
 },
 "nbformat": 3,
 "nbformat_minor": 0,
 "worksheets": [
  {
   "cells": [
    {
     "cell_type": "code",
     "collapsed": false,
     "input": [
      "import operator\n",
      "from matplotlib import pyplot as plt\n",
      "execfile('data.py')"
     ],
     "language": "python",
     "metadata": {},
     "outputs": [],
     "prompt_number": 22
    },
    {
     "cell_type": "code",
     "collapsed": false,
     "input": [
      "x = []  # time\n",
      "y1 = []  # distance\n",
      "y2 = []  # certainty\n",
      "for row in data:\n",
      "    x.append(row[0])  # timestamp\n",
      "    m = max(row[1:], key=operator.itemgetter(1))\n",
      "    y1.append(m[0])  # range in bins\n",
      "    y2.append(m[1])  # magnitude\n"
     ],
     "language": "python",
     "metadata": {},
     "outputs": [],
     "prompt_number": 23
    },
    {
     "cell_type": "code",
     "collapsed": false,
     "input": [
      "plt.plot(x, y1)\n",
      "plt.show()"
     ],
     "language": "python",
     "metadata": {},
     "outputs": [],
     "prompt_number": 24
    },
    {
     "cell_type": "code",
     "collapsed": false,
     "input": [
      "\n",
      "import sys, pygame\n",
      "pygame.init()\n",
      "\n",
      "size = width, height = 320, 240\n",
      "speed = [2, 2]\n",
      "black = 0, 0, 0\n",
      "\n",
      "screen = pygame.display.set_mode(size)\n",
      "ball = pygame.image.load(\"./plots/waverage.png\")\n",
      "ballrect = ball.get_rect()\n",
      "while 1:\n",
      "    for event in pygame.event.get():\n",
      "        if event.type == pygame.QUIT: sys.exit()\n",
      "        ballrect = ballrect.move(speed)\n",
      "        if ballrect.left < 0 or ballrect.right > width:\n",
      "            speed[0] = -speed[0]\n",
      "        if ballrect.top < 0 or ballrect.bottom > height:\n",
      "            speed[1] = -speed[1]\n",
      "        screen.fill(black)\n",
      "        screen.blit(ball, ballrect)\n",
      "        pygame.display.flip()"
     ],
     "language": "python",
     "metadata": {},
     "outputs": [],
     "prompt_number": "*"
    }
   ],
   "metadata": {}
  }
 ]
}